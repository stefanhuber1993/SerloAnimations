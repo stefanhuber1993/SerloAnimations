{
 "cells": [
  {
   "cell_type": "code",
   "execution_count": 1,
   "metadata": {},
   "outputs": [
    {
     "name": "stdout",
     "output_type": "stream",
     "text": [
      "\u001b[0m\u001b[34;42mAnalysis1\u001b[0m/\r\n",
      "\u001b[01;32mKomplexeZahlen_Figures.ipynb\u001b[0m*\r\n",
      "\u001b[01;32mLICENSE\u001b[0m*\r\n",
      "\u001b[01;32mLineareAbbildungen_Animations.ipynb\u001b[0m*\r\n",
      "\u001b[34;42mLineareAlgebra1\u001b[0m/\r\n",
      "\u001b[34;42m__pycache__\u001b[0m/\r\n",
      "\u001b[01;32mREADME.md\u001b[0m*\r\n",
      "\u001b[01;32mSerloAnimations_GeneralFormulationObjectOriented.ipynb\u001b[0m*\r\n",
      "\u001b[01;32mSerloAnimations.py\u001b[0m*\r\n",
      "\u001b[34;42mVersuchsplots\u001b[0m/\r\n"
     ]
    }
   ],
   "source": [
    "ls"
   ]
  },
  {
   "cell_type": "code",
   "execution_count": null,
   "metadata": {
    "collapsed": true
   },
   "outputs": [],
   "source": []
  }
 ],
 "metadata": {
  "kernelspec": {
   "display_name": "Python 3",
   "language": "python",
   "name": "python3"
  },
  "language_info": {
   "codemirror_mode": {
    "name": "ipython",
    "version": 3
   },
   "file_extension": ".py",
   "mimetype": "text/x-python",
   "name": "python",
   "nbconvert_exporter": "python",
   "pygments_lexer": "ipython3",
   "version": "3.6.3"
  }
 },
 "nbformat": 4,
 "nbformat_minor": 2
}
