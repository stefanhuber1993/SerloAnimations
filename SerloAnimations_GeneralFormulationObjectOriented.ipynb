{
 "cells": [
  {
   "cell_type": "code",
   "execution_count": 1,
   "metadata": {},
   "outputs": [],
   "source": [
    "import matplotlib.pyplot as plt\n",
    "%matplotlib inline\n",
    "import numpy as np\n",
    "import imageio\n",
    "\n",
    "from SerloAnimations import Arrow, Animation"
   ]
  },
  {
   "cell_type": "markdown",
   "metadata": {},
   "source": [
    "### General example how to create animations of vectors changing there positions"
   ]
  },
  {
   "cell_type": "markdown",
   "metadata": {},
   "source": [
    "The example below creates a gif animation with 30 frames, where two vectors are plotted transitionining from an original length and direction to a final length and direction."
   ]
  },
  {
   "cell_type": "code",
   "execution_count": 2,
   "metadata": {
    "collapsed": true
   },
   "outputs": [],
   "source": [
    "ani = Animation(n_frames=30)\n",
    "t1 = ani.create_fractional_timing(10,10,10) # First 10 frames stationary, 10 frames linear movement, 10 frames stationary\n",
    "I = np.ones_like(t1) # Matrix of ones for easier formulation of functions below"
   ]
  },
  {
   "cell_type": "markdown",
   "metadata": {},
   "source": [
    "The fractional timing t1 is a 1D vector containing numbers between 0 and 1, describing fraction of transition between two state that occured during the respective frame. t1 is plotted here for visualisation"
   ]
  },
  {
   "cell_type": "code",
   "execution_count": 8,
   "metadata": {},
   "outputs": [
    {
     "data": {
      "text/plain": [
       "Text(0,0.5,'t1')"
      ]
     },
     "execution_count": 8,
     "metadata": {},
     "output_type": "execute_result"
    },
    {
     "data": {
      "image/png": "[encoded data removed]",
      "text/plain": [
       "<matplotlib.figure.Figure at 0x7f8dfdd3e908>"
      ]
     },
     "metadata": {},
     "output_type": "display_data"
    }
   ],
   "source": [
    "plt.plot(t1, c='k'); plt.xlabel('Frame'); plt.ylabel('t1')"
   ]
  },
  {
   "cell_type": "code",
   "execution_count": 7,
   "metadata": {},
   "outputs": [
    {
     "data": {
      "text/plain": [
       "(<matplotlib.figure.Figure at 0x7f8dfde21860>,\n",
       " <matplotlib.axes._subplots.AxesSubplot at 0x7f8dfdec4da0>)"
      ]
     },
     "execution_count": 7,
     "metadata": {},
     "output_type": "execute_result"
    },
    {
     "data": {
      "image/png": "[encoded data removed]",
      "text/plain": [
       "<matplotlib.figure.Figure at 0x7f8dfde21860>"
      ]
     },
     "metadata": {},
     "output_type": "display_data"
    }
   ],
   "source": [
    "# Two arrow objects are defined containing the start and end coordinates of the arrow over time \n",
    "# as well as parameters to define how it looks\n",
    "arr1 = Arrow(np.array([I*0,I*0]).T, np.array([t1*1+1,I*0+1]).T, I, color='red', text=r'$f(a)$')\n",
    "arr2 = Arrow(np.array([I*0,I*0]).T, np.array([I*1+1,t1*1+1]).T, I, color='blue', text=r'$g(a)$')\n",
    "# Arrows are added to the Animation object\n",
    "ani.add_arrows([arr1,arr2])\n",
    "# Just at this stage, the actual plotting happens\n",
    "ani.render_animation('Versuchsplots/generalFormulationTest.gif'); ani.render_frame(0)"
   ]
  },
  {
   "cell_type": "code",
   "execution_count": null,
   "metadata": {
    "collapsed": true
   },
   "outputs": [],
   "source": []
  }
 ],
 "metadata": {
  "kernelspec": {
   "display_name": "Python 3",
   "language": "python",
   "name": "python3"
  },
  "language_info": {
   "codemirror_mode": {
    "name": "ipython",
    "version": 3
   },
   "file_extension": ".py",
   "mimetype": "text/x-python",
   "name": "python",
   "nbconvert_exporter": "python",
   "pygments_lexer": "ipython3",
   "version": "3.6.3"
  }
 },
 "nbformat": 4,
 "nbformat_minor": 2
}
