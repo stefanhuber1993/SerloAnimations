{
 "cells": [
  {
   "cell_type": "markdown",
   "metadata": {},
   "source": [
    "# Lineare Abbildungen - Interaktive Grafiken"
   ]
  },
  {
   "cell_type": "code",
   "execution_count": 2,
   "metadata": {
    "collapsed": true
   },
   "outputs": [],
   "source": [
    "import matplotlib.pyplot as plt\n",
    "#%matplotlib inline\n",
    "import numpy as np\n",
    "import imageio"
   ]
  },
  {
   "cell_type": "code",
   "execution_count": 3,
   "metadata": {
    "collapsed": true
   },
   "outputs": [],
   "source": [
    "# Global Variables\n",
    "fps     = 15\n",
    "figsize = (2.2,1.7)\n",
    "dpi     = 150\n",
    "\n",
    "dotted = {'linestyle':'dashed', 'color':'black', 'linewidth':0.5}\n",
    "axis = {'fc':'k', 'ec':'k', 'head_width':0.05,  'head_length':0.1, 'clip_on':False}"
   ]
  },
  {
   "cell_type": "markdown",
   "metadata": {},
   "source": [
    "## Streckungen"
   ]
  },
  {
   "cell_type": "markdown",
   "metadata": {},
   "source": [
    "### Streckung entlang einer Achse"
   ]
  },
  {
   "cell_type": "code",
   "execution_count": 204,
   "metadata": {
    "collapsed": true
   },
   "outputs": [],
   "source": [
    "with imageio.get_writer('streckung1.gif', mode='I', fps=fps) as writer:\n",
    "    timeaxis = np.linspace(1,2,20)\n",
    "    timeaxis = np.pad(timeaxis, 10, mode='edge')\n",
    "    for t in timeaxis:\n",
    "        t_norm = (t-timeaxis.min())/(timeaxis.max()-timeaxis.min())\n",
    "        fig, ax = plt.subplots(figsize=figsize, dpi=dpi);\n",
    "        ### Actual Plot #############################################################\n",
    "        for side in ['bottom','right','top','left']:\n",
    "            ax.spines[side].set_visible(False)\n",
    "        ax.arrow(0, 0, 2.6, 0, **axis);\n",
    "        ax.arrow(0, 0, 0, 2.6, **axis);\n",
    "        plt.xticks([]); plt.yticks([]);\n",
    "        \n",
    "        vec1 = np.array([1*t, 2])\n",
    "        ax.arrow(0, 0, vec1[0],vec1[1], head_width=0.05, head_length=0.1, \\\n",
    "                 fc='red', ec='red', length_includes_head=True)\n",
    "        #ax.text(vec1[0],vec1[1],'(%.1f,%.1f)ᵀ'%(vec1[0],vec1[1]), fontsize=8)\n",
    "        ax.text(vec1[0]/2-0.2,vec1[1]/2+0.25,  r'$a$', fontsize=8, \n",
    "                color='red', alpha = (1-t_norm)**6)\n",
    "        ax.text(vec1[0]/2-0.2,vec1[1]/2+0.25,  r'$f_{\\beta}(a)$', \n",
    "                fontsize=8, color='red', alpha = t_norm**6)\n",
    "        \n",
    "        #ax.text(0.25,2.25, r'$\\beta=%.1f$'%t, fontsize=8, color='black')\n",
    "        \n",
    "        ax.axvline(1., **dotted); \n",
    "        ax.axvline(2, **dotted); \n",
    "        ax.axhline(2, **dotted);\n",
    "        ax.set_xlim(0,2.5); ax.set_ylim(0,2.5)\n",
    "        #############################################################################\n",
    "        plt.savefig('tmp.png');\n",
    "        plt.close(fig);\n",
    "        image = imageio.imread('tmp.png');\n",
    "        writer.append_data(image);"
   ]
  },
  {
   "cell_type": "markdown",
   "metadata": {
    "collapsed": true
   },
   "source": [
    "### Streckung einer Summe zweier Vektoren, Additivitaet"
   ]
  },
  {
   "cell_type": "code",
   "execution_count": 205,
   "metadata": {
    "collapsed": true
   },
   "outputs": [],
   "source": [
    "with imageio.get_writer('streckungSumme.gif', mode='I', fps=fps) as writer: \n",
    "    timeaxis = np.linspace(1,2,20)\n",
    "    timeaxis = np.pad(timeaxis, 10, mode='edge')\n",
    "    for t in timeaxis:\n",
    "        t_norm = (t-timeaxis.min())/(timeaxis.max()-timeaxis.min())\n",
    "        fig, ax = plt.subplots(figsize=figsize, dpi=dpi);\n",
    "        ### Actual Plot #############################################################\n",
    "        for side in ['bottom','right','top','left']:\n",
    "            ax.spines[side].set_visible(False)\n",
    "        ax.arrow(-2.6, 0, 2*2.6, 0, **axis); #x\n",
    "        ax.arrow(0, 0, 0, 2.6, **axis); #y\n",
    "        ax.spines['left'].set_position('center')\n",
    "        plt.xticks([]); plt.yticks([]);\n",
    "        \n",
    "        vec1 = np.array([-1*t, 0.5])\n",
    "        vec2 = np.array([2*t, 1.5])\n",
    "        summe = vec1+vec2\n",
    "        ax.arrow(0, 0, vec1[0],vec1[1], head_width=0.05, head_length=0.1, \\\n",
    "                 fc='green', ec='green', length_includes_head=True)\n",
    "        ax.arrow(vec1[0],vec1[1], vec2[0],vec2[1], head_width=0.05, head_length=0.1, \\\n",
    "                 fc='blue', ec='blue', length_includes_head=True)\n",
    "        ax.arrow(0,0, summe[0],summe[1], head_width=0.05, head_length=0.1, \\\n",
    "                 fc='red', ec='red', length_includes_head=True, linewidth=1.5)\n",
    "        \n",
    "        ax.text(vec1[0]/2,vec1[1]/2+0.05, r'$a$', fontsize=8, \n",
    "                color='green', alpha = (1-t_norm)**6)\n",
    "        ax.text(vec1[0]+vec2[0]/4-0.1,vec1[1]+vec2[1]/4+0.3, r'$b$', \n",
    "                fontsize=8, color='blue', alpha = (1-t_norm)**6)\n",
    "        ax.text(summe[0]/2,summe[1]/2-0.2, r'$a+b$', fontsize=8, \n",
    "                color='red', alpha = (1-t_norm)**6)\n",
    "        \n",
    "        ax.text(vec1[0]/2,vec1[1]/2+0.05, r'$f_{\\beta}(a)$', fontsize=8, \n",
    "                color='green', alpha = t_norm**6)\n",
    "        ax.text(vec1[0]+vec2[0]/4-0.1,vec1[1]+vec2[1]/4+0.3, r'$f_{\\beta}(b)$', \n",
    "                fontsize=8, color='blue', alpha = t_norm**6)\n",
    "        ax.text(summe[0]/2,summe[1]/2-0.2, r'$f_{\\beta}(a+b)$', fontsize=8, \n",
    "                color='red', alpha = t_norm**6)\n",
    "        \n",
    "        #ax.text(-1.5,2.25, r'$\\beta=%.1f$'%t, fontsize=8, color='black')\n",
    "        \n",
    "        ax.axvline(1., **dotted); \n",
    "        ax.axvline(2, **dotted); \n",
    "        ax.axhline(2, **dotted);\n",
    "        ax.set_xlim(-2.5,2.5); ax.set_ylim(0,2.5)\n",
    "        #############################################################################\n",
    "        plt.savefig('tmp.png');\n",
    "        plt.close(fig);\n",
    "        image = imageio.imread('tmp.png');\n",
    "        writer.append_data(image);"
   ]
  },
  {
   "cell_type": "markdown",
   "metadata": {},
   "source": [
    "### Skalierung eines Vektors, Homogenitaet"
   ]
  },
  {
   "cell_type": "code",
   "execution_count": 104,
   "metadata": {},
   "outputs": [],
   "source": [
    "with imageio.get_writer('streckung_homogenitaet.gif', mode='I', fps=fps) as writer:\n",
    "    var1 = np.array([0]*10 + list(np.linspace(0,1,20)) + [1]*50)\n",
    "    var2 = np.array([0]*40 + list(np.linspace(0,1,20)) + [1]*20)\n",
    "    for v1,v2 in zip(var1,var2):\n",
    "        fig, ax = plt.subplots(figsize=figsize, dpi=dpi);\n",
    "        ### Actual Plot #############################################################\n",
    "        for side in ['bottom','right','top','left']:\n",
    "            ax.spines[side].set_visible(False)\n",
    "        ax.arrow(0, 0, 2.6, 0, **axis);\n",
    "        ax.arrow(0, 0, 0, 2.6, **axis);\n",
    "        plt.xticks([]); plt.yticks([]);\n",
    "        \n",
    "        lam_begin = 1\n",
    "        lam_end   = 3\n",
    "        \n",
    "        beta_begin = 1\n",
    "        beta_end   = 2\n",
    "        \n",
    "        vec_ori = np.array([0.4, 0.8])\n",
    "        vec1 = vec_ori * (lam_begin + v1*(lam_end-lam_begin)) * \\\n",
    "                np.array([(beta_begin + v2*(beta_end-beta_begin)),1]) \n",
    "        vec2 = vec_ori * (lam_begin + v2*(lam_end-lam_begin)) * \\\n",
    "                np.array([(beta_begin + v1*(beta_end-beta_begin)),1]) \n",
    "\n",
    "        # Vector 1\n",
    "        ax.arrow(0, 0, vec1[0], vec1[1], head_width=0.05, head_length=0.1, \\\n",
    "                 fc='red', ec='red', length_includes_head=True)\n",
    "        ax.text(vec1[0]/2-0.25,vec1[1]/2+0.25,  r'$\\lambda \\cdot a$', \n",
    "            fontsize=8, color='red', alpha = (v1-v2)**6)\n",
    "        \n",
    "        # Vector 2\n",
    "        ax.arrow(0, 0, vec2[0], vec2[1], head_width=0.05, head_length=0.1, \\\n",
    "                 fc='blue', ec='blue', length_includes_head=True)\n",
    "        ax.arrow(0, 0, vec2[0], vec2[1], head_width=0.05, head_length=0.1, \\\n",
    "                 fc='k', ec='k', length_includes_head=True, alpha=v2**10)\n",
    "        ax.text(vec1[0]/2-0.1,vec1[1]/2+0.25,  r'$a$', fontsize=8, \n",
    "                color='black', alpha = (1-v1)**6)\n",
    "        ax.text(vec2[0]/2+0.2,vec2[1]/2+0.0,  r'$f_{\\beta}(a)$', \n",
    "                fontsize=8, color='blue', alpha = (v1-v2)**6)\n",
    "        ax.text(vec1[0]/2-0.1,vec1[1]/2+0.25,  r'$a$', fontsize=8, \n",
    "                color='black', alpha = (1-v1)**6)\n",
    "        ax.text(vec1[0]/2+0.1,vec1[1]/2-0.1,  r'$\\lambda\\cdot f_{\\beta}(a)$', fontsize=8, \n",
    "                color='blue', alpha = v2**6)\n",
    "        ax.text(vec1[0]/2+0.1,vec1[1]/2+0.7,  r'$f_{\\beta}(\\lambda\\cdot a)$', fontsize=8, \n",
    "                color='red', alpha = v2**6)\n",
    "        \n",
    "        #ax.axvline(0.4, **dotted); \n",
    "        #ax.axvline(2, **dotted); \n",
    "        #ax.axhline(2, **dotted);\n",
    "        ax.set_xlim(0,2.5); ax.set_ylim(0,2.5)\n",
    "        #############################################################################\n",
    "        plt.savefig('tmp.png');\n",
    "        plt.close(fig);\n",
    "        image = imageio.imread('tmp.png');\n",
    "        writer.append_data(image);"
   ]
  },
  {
   "cell_type": "code",
   "execution_count": 74,
   "metadata": {},
   "outputs": [
    {
     "data": {
      "text/plain": [
       "[<matplotlib.lines.Line2D at 0x7f580d819c50>]"
      ]
     },
     "execution_count": 74,
     "metadata": {},
     "output_type": "execute_result"
    },
    {
     "data": {
      "image/png": "[encoded data removed]",
      "text/plain": [
       "<matplotlib.figure.Figure at 0x7f580c88cf60>"
      ]
     },
     "metadata": {},
     "output_type": "display_data"
    }
   ],
   "source": [
    "plt.plot(np.array(var1))\n",
    "plt.plot(var2)\n",
    "plt.plot(var1-var2)"
   ]
  },
  {
   "cell_type": "code",
   "execution_count": null,
   "metadata": {
    "collapsed": true
   },
   "outputs": [],
   "source": []
  }
 ],
 "metadata": {
  "kernelspec": {
   "display_name": "Python 3",
   "language": "python",
   "name": "python3"
  },
  "language_info": {
   "codemirror_mode": {
    "name": "ipython",
    "version": 3
   },
   "file_extension": ".py",
   "mimetype": "text/x-python",
   "name": "python",
   "nbconvert_exporter": "python",
   "pygments_lexer": "ipython3",
   "version": "3.6.3"
  }
 },
 "nbformat": 4,
 "nbformat_minor": 2
}
