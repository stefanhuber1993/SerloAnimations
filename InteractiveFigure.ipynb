{
 "cells": [
  {
   "cell_type": "markdown",
   "metadata": {},
   "source": [
    "# Lineare Abbildungen - Interaktive Grafiken"
   ]
  },
  {
   "cell_type": "code",
   "execution_count": 1,
   "metadata": {
    "collapsed": true
   },
   "outputs": [],
   "source": [
    "import matplotlib.pyplot as plt\n",
    "%matplotlib inline\n",
    "import numpy as np\n",
    "import imageio"
   ]
  },
  {
   "cell_type": "code",
   "execution_count": 2,
   "metadata": {
    "collapsed": true
   },
   "outputs": [],
   "source": [
    "# Global Variables\n",
    "fps     = 15\n",
    "figsize = (2.2,1.7)\n",
    "dpi     = 150\n",
    "\n",
    "dotted = {'linestyle':'dashed', 'color':'black', 'linewidth':0.5}\n",
    "axis = {'fc':'k', 'ec':'k', 'head_width':0.05,  'head_length':0.1, 'clip_on':False}"
   ]
  },
  {
   "cell_type": "markdown",
   "metadata": {},
   "source": [
    "## Streckungen"
   ]
  },
  {
   "cell_type": "markdown",
   "metadata": {},
   "source": [
    "### Allgemeines Beispiel"
   ]
  },
  {
   "cell_type": "code",
   "execution_count": 215,
   "metadata": {},
   "outputs": [],
   "source": [
    "class Arrow():\n",
    "    def __init__(self, ori_over_time, vector_over_time, alpha_over_time=1, text='', text_shift=[0,0], color='black'):\n",
    "        self.looks_dict = {'head_width':0.05, 'head_length':0.1, 'fc':color, 'ec':color, 'length_includes_head':True}\n",
    "        if (len(np.array(ori_over_time).shape) != 2) or (len(np.array(vector_over_time).shape) != 2):\n",
    "            raise Exception('Please provide 2D coordinates over time (first dim)')\n",
    "        self.ori_over_time = ori_over_time; self.vector_over_time = vector_over_time\n",
    "        self.alpha_over_time = alpha_over_time\n",
    "        self.color = color\n",
    "        self.text_coordinates_over_time = np.array(ori_over_time) + 0.5*np.array(vector_over_time) + np.array(text_shift)\n",
    "        self.text = text\n",
    "\n",
    "class Animation():\n",
    "    def __init__(self, n_frames=80, dpi=150, fps=15, figsize=(2.2,1.7), size=[0, 2.5, 0, 2.5]):\n",
    "        self.dpi=dpi; self.fps=fps; self.figsize=figsize; self.n_frames=n_frames\n",
    "        self.size=size\n",
    "        self.arrows = []\n",
    "        self.texts = []\n",
    "    \n",
    "    def create_fractional_timing(self, zeros, ramp, ones):\n",
    "        fractional_timing = np.array([0]*zeros + list(np.linspace(0,1,ramp)) + [1]*ones)\n",
    "        if len(fractional_timing) != self.n_frames:\n",
    "            raise Exception('Input is inconsistent with number of frames in animation!')\n",
    "        return fractional_timing\n",
    "    \n",
    "    def create_axis(self, ax):\n",
    "        axis = {'fc':'k', 'ec':'k', 'head_width':0.05,  'head_length':0.1, 'clip_on':False, 'length_includes_head':True}\n",
    "        for side in ['bottom','right','top','left']:\n",
    "            ax.spines[side].set_visible(False)\n",
    "        ax.arrow(self.size[0], 0, self.size[1], 0, **axis);\n",
    "        ax.arrow(0, self.size[2], 0, self.size[3], **axis);\n",
    "        ax.set_xticks([]); ax.set_yticks([]);\n",
    "        \n",
    "    def format_plot(self, ax):\n",
    "        self.create_axis(ax)\n",
    "        ax.set_xlim(self.size[0], self.size[1])\n",
    "        ax.set_ylim(self.size[2], self.size[3])\n",
    "        \n",
    "    def add_arrows(self, arrows):\n",
    "        self.arrows.extend(arrows)\n",
    "        \n",
    "    def render_image(self, output='hallo.gif'):\n",
    "        with imageio.get_writer(output, mode='I', fps=self.fps) as writer:\n",
    "            for frame in np.arange(self.n_frames):\n",
    "                fig, ax = plt.subplots(figsize=self.figsize, dpi=self.dpi)\n",
    "                \n",
    "                for arrow in self.arrows:\n",
    "                    ori = arrow.ori_over_time[frame]; vec = arrow.vector_over_time[frame]\n",
    "                    text_coord = arrow.text_coordinates_over_time[frame]\n",
    "                    ax.arrow(ori[0],ori[1],vec[0],vec[1], **arrow.looks_dict)\n",
    "                    ax.text(text_coord[0], text_coord[1], arrow.text)\n",
    "                \n",
    "                self.format_plot(ax)\n",
    "                \n",
    "                plt.savefig('tmp.png');\n",
    "                plt.close(fig);\n",
    "                image = imageio.imread('tmp.png');\n",
    "                writer.append_data(image);\n",
    "                \n",
    "ani = Animation(n_frames=30)\n",
    "\n",
    "t1 = ani.create_fractional_timing(10,10,10)\n",
    "I = np.ones_like(t1)\n",
    "\n",
    "arr1 = Arrow(np.array([I*0,I*0]).T, np.array([t1*1+1,I*0+1]).T, I, color='red', text=r'$f(a)$')\n",
    "arr2 = Arrow(np.array([I*0,I*0]).T, np.array([I*1+1,t1*1+1]).T, I, color='blue', text=r'$f(a)$')\n",
    "ani.add_arrows([arr1,arr2])\n",
    "ani.render_image('test.gif')\n",
    "\n"
   ]
  },
  {
   "cell_type": "code",
   "execution_count": 207,
   "metadata": {
    "collapsed": true
   },
   "outputs": [],
   "source": [
    "a = []"
   ]
  },
  {
   "cell_type": "code",
   "execution_count": 208,
   "metadata": {
    "collapsed": true
   },
   "outputs": [],
   "source": [
    "a.extend([0,0])"
   ]
  },
  {
   "cell_type": "code",
   "execution_count": 209,
   "metadata": {},
   "outputs": [
    {
     "data": {
      "text/plain": [
       "[0, 0]"
      ]
     },
     "execution_count": 209,
     "metadata": {},
     "output_type": "execute_result"
    }
   ],
   "source": [
    "a"
   ]
  },
  {
   "cell_type": "markdown",
   "metadata": {},
   "source": [
    "### Streckung entlang einer Achse"
   ]
  },
  {
   "cell_type": "code",
   "execution_count": 13,
   "metadata": {
    "collapsed": true
   },
   "outputs": [],
   "source": [
    "with imageio.get_writer('streckung1.gif', mode='I', fps=fps) as writer:\n",
    "    timeaxis = np.linspace(1,2,20)\n",
    "    timeaxis = np.pad(timeaxis, 10, mode='edge')\n",
    "    for t in timeaxis:\n",
    "        t_norm = (t-timeaxis.min())/(timeaxis.max()-timeaxis.min())\n",
    "        fig, ax = plt.subplots(figsize=figsize, dpi=dpi);\n",
    "        ### Actual Plot #############################################################\n",
    "        for side in ['bottom','right','top','left']:\n",
    "            ax.spines[side].set_visible(False)\n",
    "        ax.arrow(0, 0, 2.6, 0, **axis);\n",
    "        ax.arrow(0, 0, 0, 2.6, **axis);\n",
    "        plt.xticks([]); plt.yticks([]);\n",
    "        \n",
    "        vec1 = np.array([1*t, 2])\n",
    "        ax.arrow(0, 0, vec1[0],vec1[1], head_width=0.05, head_length=0.1, \\\n",
    "                 fc='red', ec='red', length_includes_head=True)\n",
    "        #ax.text(vec1[0],vec1[1],'(%.1f,%.1f)ᵀ'%(vec1[0],vec1[1]), fontsize=8)\n",
    "        ax.text(vec1[0]/2-0.2,vec1[1]/2+0.25,  r'$a$', fontsize=8, \n",
    "                color='red', alpha = (1-t_norm)**6)\n",
    "        ax.text(vec1[0]/2-0.2,vec1[1]/2+0.25,  r'$f(a)$', \n",
    "                fontsize=8, color='red', alpha = t_norm**6)\n",
    "        \n",
    "        #ax.text(0.25,2.25, r'$\\beta=%.1f$'%t, fontsize=8, color='black')\n",
    "        \n",
    "        ax.axvline(1., **dotted); \n",
    "        ax.axvline(2, **dotted); \n",
    "        ax.axhline(2, **dotted);\n",
    "        ax.set_xlim(0,2.5); ax.set_ylim(0,2.5)\n",
    "        #############################################################################\n",
    "        plt.savefig('tmp.png');\n",
    "        plt.close(fig);\n",
    "        image = imageio.imread('tmp.png');\n",
    "        writer.append_data(image);"
   ]
  },
  {
   "cell_type": "markdown",
   "metadata": {
    "collapsed": true
   },
   "source": [
    "### Streckung einer Summe zweier Vektoren, Additivitaet"
   ]
  },
  {
   "cell_type": "code",
   "execution_count": 19,
   "metadata": {
    "collapsed": true
   },
   "outputs": [],
   "source": [
    "with imageio.get_writer('streckungSumme.gif', mode='I', fps=fps) as writer: \n",
    "    timeaxis = np.linspace(1,2,20)\n",
    "    timeaxis = np.pad(timeaxis, 10, mode='edge')\n",
    "    for t in timeaxis:\n",
    "        t_norm = (t-timeaxis.min())/(timeaxis.max()-timeaxis.min())\n",
    "        fig, ax = plt.subplots(figsize=figsize, dpi=dpi);\n",
    "        ### Actual Plot #############################################################\n",
    "        for side in ['bottom','right','top','left']:\n",
    "            ax.spines[side].set_visible(False)\n",
    "        ax.arrow(-2.6, 0, 2*2.6, 0, **axis); #x\n",
    "        ax.arrow(0, 0, 0, 2.6, **axis); #y\n",
    "        ax.spines['left'].set_position('center')\n",
    "        plt.xticks([]); plt.yticks([]);\n",
    "        \n",
    "        vec1 = np.array([-1*t, 0.5])\n",
    "        vec2 = np.array([2*t, 1.5])\n",
    "        summe = vec1+vec2\n",
    "        ax.arrow(0, 0, vec1[0],vec1[1], head_width=0.05, head_length=0.1, \\\n",
    "                 fc='green', ec='green', length_includes_head=True)\n",
    "        ax.arrow(vec1[0],vec1[1], vec2[0],vec2[1], head_width=0.05, head_length=0.1, \\\n",
    "                 fc='blue', ec='blue', length_includes_head=True)\n",
    "        ax.arrow(0,0, summe[0],summe[1], head_width=0.05, head_length=0.1, \\\n",
    "                 fc='red', ec='red', length_includes_head=True, linewidth=1.5)\n",
    "        \n",
    "        ax.text(vec1[0]/2,vec1[1]/2+0.05, r'$a$', fontsize=8, \n",
    "                color='green', alpha = (1-t_norm)**6)\n",
    "        ax.text(vec1[0]+vec2[0]/4-0.1,vec1[1]+vec2[1]/4+0.3, r'$b$', \n",
    "                fontsize=8, color='blue', alpha = (1-t_norm)**6)\n",
    "        ax.text(summe[0]/2,summe[1]/2-0.2, r'$a+b$', fontsize=8, \n",
    "                color='red', alpha = (1-t_norm)**6)\n",
    "        \n",
    "        ax.text(vec1[0]/2,vec1[1]/2+0.05, r'$f(a)$', fontsize=8, \n",
    "                color='green', alpha = t_norm**6)\n",
    "        ax.text(vec1[0]+vec2[0]/4-0.1,vec1[1]+vec2[1]/4+0.3, r'$f(b)$', \n",
    "                fontsize=8, color='blue', alpha = t_norm**6)\n",
    "        ax.text(summe[0]/2,summe[1]/2-0.2, r'$f(a+b)$', fontsize=8, \n",
    "                color='red', alpha = t_norm**6)\n",
    "        \n",
    "        #ax.text(-1.5,2.25, r'$\\beta=%.1f$'%t, fontsize=8, color='black')\n",
    "        \n",
    "        for i in [1,2, -1, -2]:\n",
    "            ax.axvline(i, **dotted); \n",
    "        for i in [2,0.5]:\n",
    "            ax.axhline(i, **dotted);\n",
    "        ax.set_xlim(-2.5,2.5); ax.set_ylim(0,2.5)\n",
    "        #############################################################################\n",
    "        plt.savefig('tmp.png');\n",
    "        plt.close(fig);\n",
    "        image = imageio.imread('tmp.png');\n",
    "        writer.append_data(image);"
   ]
  },
  {
   "cell_type": "markdown",
   "metadata": {},
   "source": [
    "### Skalierung eines Vektors, Homogenitaet"
   ]
  },
  {
   "cell_type": "code",
   "execution_count": 15,
   "metadata": {
    "collapsed": true
   },
   "outputs": [],
   "source": [
    "with imageio.get_writer('streckung_homogenitaet.gif', mode='I', fps=fps) as writer:\n",
    "    var1 = np.array([0]*10 + list(np.linspace(0,1,20)) + [1]*60)\n",
    "    var2 = np.array([0]*40 + list(np.linspace(0,1,20)) + [1]*30)\n",
    "    for v1,v2 in zip(var1,var2):\n",
    "        fig, ax = plt.subplots(figsize=figsize, dpi=dpi);\n",
    "        ### Actual Plot #############################################################\n",
    "        for side in ['bottom','right','top','left']:\n",
    "            ax.spines[side].set_visible(False)\n",
    "        ax.arrow(0, 0, 2.6, 0, **axis);\n",
    "        ax.arrow(0, 0, 0, 2.6, **axis);\n",
    "        plt.xticks([]); plt.yticks([]);\n",
    "        \n",
    "        for i in [0.4, 0.8, 1.2, 2.4]:\n",
    "            ax.axvline(i, **dotted); \n",
    "        for i in [0.8, 2.4]:\n",
    "            ax.axhline(i, **dotted);\n",
    "        \n",
    "        lam_begin = 1\n",
    "        lam_end   = 3\n",
    "        \n",
    "        beta_begin = 1\n",
    "        beta_end   = 2\n",
    "        \n",
    "        vec_ori = np.array([0.4, 0.8])\n",
    "        vec1 = vec_ori * (lam_begin + v1*(lam_end-lam_begin)) * \\\n",
    "                np.array([(beta_begin + v2*(beta_end-beta_begin)),1]) \n",
    "        vec2 = vec_ori * (lam_begin + v2*(lam_end-lam_begin)) * \\\n",
    "                np.array([(beta_begin + v1*(beta_end-beta_begin)),1]) \n",
    "\n",
    "        # Vector 1\n",
    "        ax.arrow(0, 0, vec1[0], vec1[1], head_width=0.05, head_length=0.1, \\\n",
    "                 fc='red', ec='red', length_includes_head=True)\n",
    "        ax.text(vec1[0]/2-0.25,vec1[1]/2+0.25,  r'$\\lambda \\cdot a$', \n",
    "            fontsize=8, color='red', alpha = (v1-v2)**6)\n",
    "        \n",
    "        # Vector 2\n",
    "        ax.arrow(0, 0, vec2[0], vec2[1], head_width=0.05, head_length=0.1, \\\n",
    "                 fc='blue', ec='blue', length_includes_head=True)\n",
    "        ax.arrow(0, 0, vec2[0], vec2[1], head_width=0.05, head_length=0.1, \\\n",
    "                 fc='k', ec='k', length_includes_head=True, alpha=v2**10)\n",
    "        ax.text(vec1[0]/2-0.1,vec1[1]/2+0.25,  r'$a$', fontsize=8, \n",
    "                color='black', alpha = (1-v1)**6)\n",
    "        ax.text(vec2[0]/2+0.2,vec2[1]/2+0.0,  r'$f(a)$', \n",
    "                fontsize=8, color='blue', alpha = (v1-v2)**6)\n",
    "        ax.text(vec1[0]/2-0.1,vec1[1]/2+0.25,  r'$a$', fontsize=8, \n",
    "                color='black', alpha = (1-v1)**6)\n",
    "        ax.text(vec1[0]/2+0.1,vec1[1]/2-0.1,  r'$\\lambda\\cdot f(a)$', fontsize=8, \n",
    "                color='blue', alpha = v2**6)\n",
    "        ax.text(vec1[0]/2+0.1,vec1[1]/2+0.7,  r'$f(\\lambda\\cdot a)$', fontsize=8, \n",
    "                color='red', alpha = v2**6)\n",
    "        \n",
    "        ax.set_xlim(0,2.5); ax.set_ylim(0,2.5)\n",
    "        #############################################################################\n",
    "        plt.savefig('tmp.png');\n",
    "        plt.close(fig);\n",
    "        image = imageio.imread('tmp.png');\n",
    "        writer.append_data(image);"
   ]
  },
  {
   "cell_type": "code",
   "execution_count": null,
   "metadata": {
    "collapsed": true
   },
   "outputs": [],
   "source": []
  }
 ],
 "metadata": {
  "kernelspec": {
   "display_name": "Python 3",
   "language": "python",
   "name": "python3"
  },
  "language_info": {
   "codemirror_mode": {
    "name": "ipython",
    "version": 3
   },
   "file_extension": ".py",
   "mimetype": "text/x-python",
   "name": "python",
   "nbconvert_exporter": "python",
   "pygments_lexer": "ipython3",
   "version": "3.6.3"
  }
 },
 "nbformat": 4,
 "nbformat_minor": 2
}
