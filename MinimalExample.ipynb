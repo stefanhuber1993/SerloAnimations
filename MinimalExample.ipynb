{
 "cells": [
  {
   "cell_type": "markdown",
   "metadata": {},
   "source": [
    "## Imports and Definitions"
   ]
  },
  {
   "cell_type": "code",
   "execution_count": 31,
   "metadata": {},
   "outputs": [],
   "source": [
    "import matplotlib.pyplot as plt  # Package for plotting\n",
    "import numpy as np               # For manipulating arrays\n",
    "import imageio                   # For writing/reading images\n",
    "import os\n",
    "timeaxis = np.linspace(-1,1,10)   # timeaxis = [0 0.1 0.2 ... 1.0]\n",
    "fps = 10                         # 10 frames per seconds"
   ]
  },
  {
   "cell_type": "code",
   "execution_count": 34,
   "metadata": {},
   "outputs": [],
   "source": [
    "writer = imageio.get_writer('MinimalExample1.gif', mode='I', fps=fps)\n",
    "\n",
    "for t in timeaxis:\n",
    "    fig, ax = plt.subplots(figsize=(5,3), dpi=75);\n",
    "    ax.set_xlim(0,2*np.pi); ax.set_ylim(-1,1)\n",
    "    x = np.linspace(0,2*np.pi,100)\n",
    "    ax.plot(x, t*np.sin(x))\n",
    "    \n",
    "    plt.savefig('tmp.png')\n",
    "    plt.close(fig)\n",
    "    image = imageio.imread('tmp.png')\n",
    "    writer.append_data(image)\n",
    "\n",
    "os.remove('tmp.png')\n",
    "writer.close()"
   ]
  },
  {
   "cell_type": "code",
   "execution_count": null,
   "metadata": {},
   "outputs": [],
   "source": []
  }
 ],
 "metadata": {
  "kernelspec": {
   "display_name": "Python 3",
   "language": "python",
   "name": "python3"
  },
  "language_info": {
   "codemirror_mode": {
    "name": "ipython",
    "version": 3
   },
   "file_extension": ".py",
   "mimetype": "text/x-python",
   "name": "python",
   "nbconvert_exporter": "python",
   "pygments_lexer": "ipython3",
   "version": "3.7.1"
  }
 },
 "nbformat": 4,
 "nbformat_minor": 2
}
